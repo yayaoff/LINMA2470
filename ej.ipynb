{
 "cells": [
  {
   "cell_type": "code",
   "execution_count": 3,
   "metadata": {},
   "outputs": [
    {
     "data": {
      "text/plain": [
       "QuickMDP{Base.UUID(\"6f4fc768-1c24-44aa-8d4c-d5ea7aa3a9db\"), Int64, Int64, @NamedTuple{stateindex::Dict{Int64, Int64}, isterminal::Bool, actionindex::Dict{Int64, Int64}, transition::var\"#15#17\", reward::var\"#16#18\", states::UnitRange{Int64}, actions::Vector{Int64}, discount::Float64, initialstate::Deterministic{Int64}}}((stateindex = Dict(5 => 6, 16 => 17, 7 => 8, 20 => 21, 12 => 13, 8 => 9, 17 => 18, 1 => 2, 19 => 20, 0 => 1…), isterminal = false, actionindex = Dict(0 => 1, 1 => 2), transition = var\"#15#17\"(), reward = var\"#16#18\"(), states = 0:20, actions = [0, 1], discount = 0.99, initialstate = Deterministic{Int64}(10)))"
      ]
     },
     "metadata": {},
     "output_type": "display_data"
    }
   ],
   "source": [
    "using POMDPs\n",
    "using QuickPOMDPs\n",
    "using Distributions\n",
    "\n",
    "using Distributions: DiscreteUniform, pdf\n",
    "using POMDPTools: Deterministic\n",
    "\n",
    "const MAX_INVENTORY = 20\n",
    "const MAX_STORE = 10\n",
    "const ORDER_SIZE = 5\n",
    "\n",
    "const holding_cost_store = 2\n",
    "const holding_cost_parking = 4\n",
    "const order_cost = 20\n",
    "const stockout_penalty = 50\n",
    "\n",
    "const demand_dist = DiscreteUniform(0, 10)\n",
    "\n",
    "mdp = QuickMDP(\n",
    "    states = 0:MAX_INVENTORY,\n",
    "    actions = [0, 1],  # 0 = no order, 1 = order 5 bikes\n",
    "    discount = 0.99,\n",
    "    transition = function (s, a)\n",
    "        outcomes = []\n",
    "        order_qty = a == 1 ? min(ORDER_SIZE, MAX_INVENTORY - s) : 0\n",
    "        new_stock = s + order_qty\n",
    "\n",
    "        for d in support(demand_dist)\n",
    "            sold = min(d, new_stock)\n",
    "            next_state = new_stock - sold\n",
    "            prob = pdf(demand_dist, d)\n",
    "            push!(outcomes, (next_state, prob))\n",
    "        end\n",
    "        return outcomes\n",
    "    end,\n",
    "    reward = function (s, a, sp)\n",
    "        order_qty = a == 1 ? min(ORDER_SIZE, MAX_INVENTORY - s) : 0\n",
    "        new_stock = s + order_qty\n",
    "        demand = new_stock - sp\n",
    "        lost_sales = max(demand - new_stock, 0)\n",
    "\n",
    "        in_store = min(sp, MAX_STORE)\n",
    "        in_parking = max(sp - MAX_STORE, 0)\n",
    "\n",
    "        cost = 0\n",
    "        cost += a == 1 ? order_cost : 0\n",
    "        cost += in_store * holding_cost_store + in_parking * holding_cost_parking\n",
    "        cost += (max(demand - new_stock, 0)) * stockout_penalty\n",
    "\n",
    "        return -cost  # negative cost = reward\n",
    "    end,\n",
    "    initialstate = Deterministic(10)\n",
    ")\n"
   ]
  },
  {
   "cell_type": "code",
   "execution_count": 4,
   "metadata": {},
   "outputs": [
    {
     "name": "stdout",
     "output_type": "stream",
     "text": [
      "From 14 --(a=1)--> 19  | P=0.09090909090909091, Reward=-76\n",
      "From 14 --(a=1)--> 18  | P=0.09090909090909091, Reward=-72\n",
      "From 14 --(a=1)--> 17  | P=0.09090909090909091, Reward=-68\n",
      "From 14 --(a=1)--> 16  | P=0.09090909090909091, Reward=-64\n",
      "From 14 --(a=1)--> 15  | P=0.09090909090909091, Reward=-60\n",
      "From 14 --(a=1)--> 14  | P=0.09090909090909091, Reward=-56\n",
      "From 14 --(a=1)--> 13  | P=0.09090909090909091, Reward=-52\n",
      "From 14 --(a=1)--> 12  | P=0.09090909090909091, Reward=-48\n",
      "From 14 --(a=1)--> 11  | P=0.09090909090909091, Reward=-44\n",
      "From 14 --(a=1)--> 10  | P=0.09090909090909091, Reward=-40\n",
      "From 14 --(a=1)--> 9  | P=0.09090909090909091, Reward=-38\n"
     ]
    }
   ],
   "source": [
    "using POMDPTools\n",
    "\n",
    "s = 14  # Start state\n",
    "a = 1   # Action: order\n",
    "\n",
    "for (sp, p) in transition(mdp, s, a)\n",
    "    r = reward(mdp, s, a, sp)\n",
    "    println(\"From $s --(a=$a)--> $sp  | P=$p, Reward=$r\")\n",
    "end\n"
   ]
  }
 ],
 "metadata": {
  "kernelspec": {
   "display_name": "Julia 1.11.3",
   "language": "julia",
   "name": "julia-1.11"
  },
  "language_info": {
   "file_extension": ".jl",
   "mimetype": "application/julia",
   "name": "julia",
   "version": "1.11.3"
  }
 },
 "nbformat": 4,
 "nbformat_minor": 2
}
