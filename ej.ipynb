{
 "cells": [
  {
   "cell_type": "code",
   "execution_count": 4,
   "metadata": {},
   "outputs": [
    {
     "data": {
      "text/plain": [
       "QuickMDP{Base.UUID(\"84491737-5c7e-4634-847a-10e44092a817\"), Int64, Int64, @NamedTuple{stateindex::Dict{Int64, Int64}, isterminal::Bool, actionindex::Dict{Int64, Int64}, transition::var\"#12#14\", reward::var\"#13#15\", states::UnitRange{Int64}, actions::Vector{Int64}, discount::Float64, initialstate::Deterministic{Int64}}}((stateindex = Dict(5 => 6, 16 => 17, 7 => 8, 20 => 21, 12 => 13, 8 => 9, 17 => 18, 1 => 2, 19 => 20, 0 => 1…), isterminal = false, actionindex = Dict(0 => 1, 1 => 2), transition = var\"#12#14\"(), reward = var\"#13#15\"(), states = 0:20, actions = [0, 1], discount = 0.99, initialstate = Deterministic{Int64}(10)))"
      ]
     },
     "metadata": {},
     "output_type": "display_data"
    }
   ],
   "source": [
    "using POMDPs\n",
    "using QuickPOMDPs\n",
    "using Distributions\n",
    "\n",
    "using Distributions: DiscreteUniform, pdf\n",
    "using POMDPTools: Deterministic\n",
    "\n",
    "const MAX_INVENTORY = 20\n",
    "const MAX_STORE = 10\n",
    "const ORDER_SIZE = 5\n",
    "\n",
    "const holding_cost_store = 2\n",
    "const holding_cost_parking = 4\n",
    "const order_cost = 20\n",
    "const stockout_penalty = 50\n",
    "\n",
    "const demand_dist = DiscreteUniform(0, 10)\n",
    "\n",
    "mdp = QuickMDP(\n",
    "    states = 0:MAX_INVENTORY,\n",
    "    actions = [0, 1],  # 0 = no order, 1 = order 5 bikes\n",
    "    discount = 0.99,\n",
    "    transition = function (s, a)\n",
    "        outcomes = []\n",
    "        order_qty = a == 1 ? min(ORDER_SIZE, MAX_INVENTORY - s) : 0\n",
    "        new_stock = s + order_qty\n",
    "\n",
    "        for d in support(demand_dist)\n",
    "            sold = min(d, new_stock)\n",
    "            next_state = new_stock - sold\n",
    "            prob = pdf(demand_dist, d)\n",
    "            push!(outcomes, (next_state, prob))\n",
    "        end\n",
    "        return outcomes\n",
    "    end,\n",
    "    reward = function (s, a, sp)\n",
    "        order_qty = a == 1 ? min(ORDER_SIZE, MAX_INVENTORY - s) : 0\n",
    "        new_stock = s + order_qty\n",
    "        demand = new_stock - sp\n",
    "        lost_sales = max(demand - new_stock, 0)\n",
    "\n",
    "        in_store = min(sp, MAX_STORE)\n",
    "        in_parking = max(sp - MAX_STORE, 0)\n",
    "\n",
    "        cost = 0\n",
    "        cost += a == 1 ? order_cost : 0\n",
    "        cost += in_store * holding_cost_store + in_parking * holding_cost_parking\n",
    "        cost += (max(demand - new_stock, 0)) * stockout_penalty\n",
    "\n",
    "        return -cost  # negative cost = reward\n",
    "    end,\n",
    "    initialstate = Deterministic(10)\n",
    ")"
   ]
  },
  {
   "cell_type": "code",
   "execution_count": 6,
   "metadata": {},
   "outputs": [
    {
     "name": "stdout",
     "output_type": "stream",
     "text": [
      "From 10 --(a=0)--> 10  | P=0.09090909090909091, Reward=-20\n",
      "From 10 --(a=0)--> 9  | P=0.09090909090909091, Reward=-18\n",
      "From 10 --(a=0)--> 8  | P=0.09090909090909091, Reward=-16\n",
      "From 10 --(a=0)--> 7  | P=0.09090909090909091, Reward=-14\n",
      "From 10 --(a=0)--> 6  | P=0.09090909090909091, Reward=-12\n",
      "From 10 --(a=0)--> 5  | P=0.09090909090909091, Reward=-10\n",
      "From 10 --(a=0)--> 4  | P=0.09090909090909091, Reward=-8\n",
      "From 10 --(a=0)--> 3  | P=0.09090909090909091, Reward=-6\n",
      "From 10 --(a=0)--> 2  | P=0.09090909090909091, Reward=-4\n",
      "From 10 --(a=0)--> 1  | P=0.09090909090909091, Reward=-2\n",
      "From 10 --(a=0)--> 0  | P=0.09090909090909091, Reward=0\n"
     ]
    }
   ],
   "source": [
    "using POMDPTools\n",
    "\n",
    "s = 10  # Start state\n",
    "a = 0   # Action: order\n",
    "\n",
    "for (sp, p) in transition(mdp, s, a)\n",
    "    r = reward(mdp, s, a, sp)\n",
    "    println(\"From $s --(a=$a)--> $sp  | P=$p, Reward=$r\")\n",
    "end"
   ]
  },
  {
   "cell_type": "code",
   "execution_count": 1,
   "metadata": {},
   "outputs": [],
   "source": [
    "using POMDPs\n",
    "using QuickPOMDPs\n",
    "using POMDPTools\n",
    "using TabularTDLearning\n",
    "using Random"
   ]
  },
  {
   "cell_type": "code",
   "execution_count": 2,
   "metadata": {},
   "outputs": [
    {
     "data": {
      "text/plain": [
       "train_q_learning_agent (generic function with 1 method)"
      ]
     },
     "metadata": {},
     "output_type": "display_data"
    }
   ],
   "source": [
    "function train_q_learning_agent(mdp, alpha::Float64, epsilon::Float64; iterations=10_000)\n",
    "    ql = QLearningSolver(\n",
    "        max_iterations=iterations,\n",
    "        alpha=alpha,\n",
    "        epsilon=epsilon,\n",
    "        gamma=mdp.discount\n",
    "    )\n",
    "    policy = solve(ql, mdp)\n",
    "    return policy, ql.q\n",
    "end"
   ]
  },
  {
   "cell_type": "code",
   "execution_count": null,
   "metadata": {},
   "outputs": [],
   "source": [
    "function evaluate_policy(mdp, policy; num_trials=100, max_steps=100)\n",
    "    sim = RolloutSimulator(max_steps=max_steps)\n",
    "    rewards = [simulate(sim, mdp, policy) for _ in 1:num_trials]\n",
    "    return mean(rewards)\n",
    "end"
   ]
  },
  {
   "cell_type": "code",
   "execution_count": null,
   "metadata": {},
   "outputs": [],
   "source": []
  }
 ],
 "metadata": {
  "kernelspec": {
   "display_name": "Julia 1.11.3",
   "language": "julia",
   "name": "julia-1.11"
  },
  "language_info": {
   "file_extension": ".jl",
   "mimetype": "application/julia",
   "name": "julia",
   "version": "1.11.3"
  }
 },
 "nbformat": 4,
 "nbformat_minor": 2
}
